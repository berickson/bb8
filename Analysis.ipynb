{
 "cells": [
  {
   "cell_type": "code",
   "execution_count": 1,
   "id": "cc17cc19",
   "metadata": {},
   "outputs": [],
   "source": [
    "import pathlib\n",
    "import pandas as pd\n",
    "import matplotlib.pyplot as plt\n",
    "from ipywidgets import interact, interactive, fixed, interact_manual \n",
    "import ipywidgets as widgets\n",
    "import numpy as np\n",
    "import math"
   ]
  },
  {
   "cell_type": "code",
   "execution_count": 2,
   "id": "534527bf",
   "metadata": {},
   "outputs": [],
   "source": [
    "def show_analysis(file_name):\n",
    "    fig=plt.figure(figsize=(16,5), dpi=200, facecolor='w', edgecolor='k')\n",
    "    fig.tight_layout()\n",
    "    plt.subplot(1,3,1)\n",
    "    df = pd.read_csv(file_name)\n",
    "    plt.gca().set_aspect('equal')\n",
    "    plt.plot(df.loc_x.to_numpy(),df.loc_y.to_numpy())\n",
    "\n",
    "    \n",
    "    plt.subplot(2,3,2)\n",
    "    plt.tight_layout()\n",
    "    plt.title(\"velocity\")\n",
    "    plt.gca().set_aspect('auto')\n",
    "    plt.plot(df.t.to_numpy(), df.v_x.to_numpy(), \".:\", label=\"x\")\n",
    "    plt.plot(df.t.to_numpy(), df.v_y.to_numpy(), \".:\", label=\"y\")\n",
    "    plt.xlabel(\"t\")\n",
    "    plt.legend()\n",
    "    \n",
    "    plt.subplot(2,3,3)\n",
    "    plt.tight_layout()\n",
    "    plt.title(\"acceleration\")\n",
    "    plt.gca().set_aspect('auto')\n",
    "    plt.plot(df.t.to_numpy(), df.a_x.to_numpy(), \".:\", label=\"x\")\n",
    "    plt.plot(df.t.to_numpy(), df.a_y.to_numpy(), \".:\", label=\"y\")\n",
    "    plt.xlabel(\"t\")\n",
    "    plt.legend()\n",
    "\n",
    "    plt.subplot(2,3,5)\n",
    "    plt.tight_layout()\n",
    "    plt.title(\"gyro\")\n",
    "    plt.gca().set_aspect('auto')\n",
    "    plt.plot(df.t.to_numpy(), df.gyro_x.to_numpy(), \".:\", label=\"x\")\n",
    "    plt.plot(df.t.to_numpy(), df.gyro_y.to_numpy(), \".:\", label=\"y\")\n",
    "    plt.plot(df.t.to_numpy(), df.gyro_z.to_numpy(), \".:\", label=\"z\")\n",
    "    plt.xlabel(\"t\")\n",
    "    plt.legend()\n",
    "\n",
    "    plt.subplot(2,3,6)\n",
    "    plt.tight_layout()\n",
    "    plt.title(\"direction\")\n",
    "    plt.gca().set_aspect('auto')\n",
    "    plt.plot(df.t.to_numpy(), np.arctan2(df.v_y.to_numpy(), df.v_x.to_numpy())*180./math.pi+180, \".:\", label=\"x\")\n",
    "    plt.xlabel(\"t\")\n",
    "    plt.legend()\n",
    "\n",
    "\n",
    "\n",
    "\n",
    "    \n",
    "    plt.show()"
   ]
  },
  {
   "cell_type": "code",
   "execution_count": 5,
   "id": "c2cf3451",
   "metadata": {},
   "outputs": [
    {
     "data": {
      "application/vnd.jupyter.widget-view+json": {
       "model_id": "3e0b47e766a64c94b6daac1311a0cbb2",
       "version_major": 2,
       "version_minor": 0
      },
      "text/plain": [
       "interactive(children=(Dropdown(description='file_name', options=('sphero_log_2022-05-28T21:41:54.624.csv', 'sp…"
      ]
     },
     "metadata": {},
     "output_type": "display_data"
    }
   ],
   "source": [
    "log_files = list(pathlib.Path.cwd().glob(\"sphero_log_*.csv\"))\n",
    "log_files.sort(reverse=True)\n",
    "interact(show_analysis,file_name=[f.name for f in log_files])\n",
    "pass"
   ]
  },
  {
   "cell_type": "code",
   "execution_count": 4,
   "id": "51bcb3cc",
   "metadata": {},
   "outputs": [
    {
     "data": {
      "text/plain": [
       "3.141592653589793"
      ]
     },
     "execution_count": 4,
     "metadata": {},
     "output_type": "execute_result"
    }
   ],
   "source": [
    "math.pi"
   ]
  },
  {
   "cell_type": "code",
   "execution_count": null,
   "id": "00a9bb97",
   "metadata": {},
   "outputs": [],
   "source": []
  }
 ],
 "metadata": {
  "kernelspec": {
   "display_name": "Python 3 (ipykernel)",
   "language": "python",
   "name": "python3"
  },
  "language_info": {
   "codemirror_mode": {
    "name": "ipython",
    "version": 3
   },
   "file_extension": ".py",
   "mimetype": "text/x-python",
   "name": "python",
   "nbconvert_exporter": "python",
   "pygments_lexer": "ipython3",
   "version": "3.8.10"
  }
 },
 "nbformat": 4,
 "nbformat_minor": 5
}
